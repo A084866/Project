{
 "cells": [
  {
   "cell_type": "code",
   "execution_count": 1,
   "metadata": {},
   "outputs": [],
   "source": [
    "import pandas as pd\n",
    "import os\n",
    "import pyodbc\n",
    "from pathlib import Path\n",
    "#from dotenv import find_dotenv, load_dotenv\n",
    "import numpy as np\n",
    "import snowflake.connector\n",
    "from snowflake.connector.pandas_tools import write_pandas\n",
    "import boto3\n",
    "from io import StringIO\n",
    "import datetime\n",
    "from multiprocessing import Pool\n",
    "import traceback\n",
    "import logging\n",
    "import gc"
   ]
  },
  {
   "cell_type": "code",
   "execution_count": 5,
   "metadata": {},
   "outputs": [],
   "source": [
    "CONX_STR = '''driver={SQL Server Native Client 11.0};\n",
    "              server=mss-p1-pdw-01,17001;database=EXDWDM;\n",
    "              Trusted_Connection=yes;'''\n",
    "\n",
    "def make_connection():\n",
    "    \"return PDW db connection object\"\n",
    "    # TODO: sqlalchemy engine to address pandas warning\n",
    "    # connection_url = URL.create(\"mssql+pyodbc\", query={\"odbc_connect\": CONX_STR})\n",
    "    # engine = create_engine(connection_url)\n",
    "    # return engine\n",
    "    #     sqlalchemy.exc.ProgrammingError: (pyodbc.ProgrammingError) ('42000', '[42000] [Microsoft][SQL Server Native Client 11.0][SQL Server]111214;An attempt to complete a transaction has failed. No corresponding transaction found. (111214) (SQLEndTran)')\n",
    "    # (Background on this error at: http://sqlalche.me/e/14/f405)\n",
    "\n",
    "    return pyodbc.connect(CONX_STR)  \n"
   ]
  },
  {
   "cell_type": "code",
   "execution_count": 16,
   "metadata": {},
   "outputs": [
    {
     "name": "stderr",
     "output_type": "stream",
     "text": [
      "C:\\Users\\A084866.PROG1\\AppData\\Local\\Temp\\23\\ipykernel_95080\\3095181363.py:9: UserWarning: pandas only supports SQLAlchemy connectable (engine/connection) or database string URI or sqlite3 DBAPI2 connection. Other DBAPI2 objects are not tested. Please consider using SQLAlchemy.\n",
      "  df=pd.read_sql(sql_query,conn)\n"
     ]
    },
    {
     "name": "stdout",
     "output_type": "stream",
     "text": [
      "                                 AUDITCORRELATIONID           ORDERDATETIME  \\\n",
      "0          0B7A6892-D64C-4CB4-8F77-B9B42A4BE2BF     2023-12-22 12:25:07.263   \n",
      "1          44AA674D-72EA-4D10-AAC9-D9542E0434FD     2023-07-01 14:28:23.180   \n",
      "2          1956C493-4007-43D3-B24D-B702B2ED5A65     2023-06-29 14:39:47.850   \n",
      "3          F612683D-33B3-40B9-889B-8B199E4BAE82     2023-12-23 09:46:05.887   \n",
      "4          2DEB074A-93F5-4D79-A600-B0E0A14446D7     2023-06-29 15:09:10.750   \n",
      "...                                             ...                     ...   \n",
      "811238000  00160669-A00D-1226-5735-B00E0012700C     2022-09-06 12:26:57.400   \n",
      "811238001  00160670-A00D-0920-3009-B00E0082779C     2022-09-07 09:20:30.110   \n",
      "811238002  00160670-A00D-1630-1866-B00E0046329C     2022-09-07 16:30:18.680   \n",
      "811238003  00160670-A00D-1631-2474-B00E0002988C     2022-09-07 16:31:24.757   \n",
      "811238004  00160670-A00D-1631-3545-B00E0037198C     2022-09-07 16:31:35.463   \n",
      "\n",
      "             ORDERID  \n",
      "0          748454011  \n",
      "1          701313293  \n",
      "2          700722073  \n",
      "3          748674431  \n",
      "4          700739478  \n",
      "...              ...  \n",
      "811238000  580555283  \n",
      "811238001  580993910  \n",
      "811238002  581266713  \n",
      "811238003  581267434  \n",
      "811238004  581267546  \n",
      "\n",
      "[811238005 rows x 3 columns]\n"
     ]
    }
   ],
   "source": [
    "\n",
    "sql_query = \"\"\"\n",
    "            SELECT \n",
    "                AUDITCORRELATIONID,\n",
    "                ORDERDATETIME,\n",
    "                ORDERID\n",
    "            FROM EXDWDM.dbo.POPORDER\n",
    "            \"\"\"\n",
    "conn=make_connection()\n",
    "df=pd.read_sql(sql_query,conn)\n",
    "conn.close()\n",
    "print(df)"
   ]
  }
 ],
 "metadata": {
  "kernelspec": {
   "display_name": "py397",
   "language": "python",
   "name": "python3"
  },
  "language_info": {
   "codemirror_mode": {
    "name": "ipython",
    "version": 3
   },
   "file_extension": ".py",
   "mimetype": "text/x-python",
   "name": "python",
   "nbconvert_exporter": "python",
   "pygments_lexer": "ipython3",
   "version": "3.9.7"
  },
  "orig_nbformat": 4
 },
 "nbformat": 4,
 "nbformat_minor": 2
}
